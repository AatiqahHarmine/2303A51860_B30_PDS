{
  "nbformat": 4,
  "nbformat_minor": 0,
  "metadata": {
    "colab": {
      "provenance": [],
      "authorship_tag": "ABX9TyMSRRWKYG2CV8cnkigxqaSb",
      "include_colab_link": true
    },
    "kernelspec": {
      "name": "python3",
      "display_name": "Python 3"
    },
    "language_info": {
      "name": "python"
    }
  },
  "cells": [
    {
      "cell_type": "markdown",
      "metadata": {
        "id": "view-in-github",
        "colab_type": "text"
      },
      "source": [
        "<a href=\"https://colab.research.google.com/github/AatiqahHarmine/2303A51860_B30_PDS/blob/main/Assignment1.ipynb\" target=\"_parent\"><img src=\"https://colab.research.google.com/assets/colab-badge.svg\" alt=\"Open In Colab\"/></a>"
      ]
    },
    {
      "cell_type": "code",
      "source": [
        "def factorial(n):\n",
        "  if n==0 or n==1:\n",
        "    return 1\n",
        "  else:\n",
        "    return n*factorial(n-1)\n",
        "\n",
        "number=int(input(\"Enter a number: \"))\n",
        "\n",
        "if(number<0):\n",
        "  print(\"Factorial does not exist for negative numbers\")\n",
        "elif (number<=10):\n",
        "  result=factorial(number)\n",
        "  print(\"The factorial of\",number,\"is\",result)\n",
        "else:\n",
        "  print(\"Factorial is too large\")\n"
      ],
      "metadata": {
        "colab": {
          "base_uri": "https://localhost:8080/"
        },
        "id": "yVPA0JbL09U5",
        "outputId": "a7ce4b2c-3812-4171-b28c-f19e5ca8b1bc"
      },
      "execution_count": 7,
      "outputs": [
        {
          "output_type": "stream",
          "name": "stdout",
          "text": [
            "Enter a number: 45\n",
            "Factorial is too large\n"
          ]
        }
      ]
    },
    {
      "cell_type": "code",
      "execution_count": 2,
      "metadata": {
        "colab": {
          "base_uri": "https://localhost:8080/"
        },
        "id": "TK2_ZghmxfDD",
        "outputId": "60d6ae60-fe32-4976-e1cc-f73f875826c0"
      },
      "outputs": [
        {
          "output_type": "stream",
          "name": "stdout",
          "text": [
            "24\n"
          ]
        }
      ],
      "source": [
        "def factorial(n):\n",
        "  fact=1\n",
        "  for i in range(1,n+1):\n",
        "    fact *= i\n",
        "  return fact\n",
        "\n",
        "print(factorial(4))"
      ]
    }
  ]
}