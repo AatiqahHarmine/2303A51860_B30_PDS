{
  "nbformat": 4,
  "nbformat_minor": 0,
  "metadata": {
    "colab": {
      "provenance": [],
      "authorship_tag": "ABX9TyNj9CT+A3taz7S2bG1UE6vJ",
      "include_colab_link": true
    },
    "kernelspec": {
      "name": "python3",
      "display_name": "Python 3"
    },
    "language_info": {
      "name": "python"
    }
  },
  "cells": [
    {
      "cell_type": "markdown",
      "metadata": {
        "id": "view-in-github",
        "colab_type": "text"
      },
      "source": [
        "<a href=\"https://colab.research.google.com/github/AatiqahHarmine/2303A51860_B30_PDS/blob/main/Assignment3.ipynb\" target=\"_parent\"><img src=\"https://colab.research.google.com/assets/colab-badge.svg\" alt=\"Open In Colab\"/></a>"
      ]
    },
    {
      "cell_type": "markdown",
      "source": [
        "#Create 2-D Array"
      ],
      "metadata": {
        "id": "IsRHZbxE9r31"
      }
    },
    {
      "cell_type": "code",
      "metadata": {
        "colab": {
          "base_uri": "https://localhost:8080/"
        },
        "id": "3caed126",
        "outputId": "50fd939d-9d0a-4408-cabc-b946f7e017b3"
      },
      "source": [
        "import numpy as np\n",
        "\n",
        "test_scores = np.random.randint(0, 101, size=(4, 4))\n",
        "print(test_scores)"
      ],
      "execution_count": 1,
      "outputs": [
        {
          "output_type": "stream",
          "name": "stdout",
          "text": [
            "[[15 59 52 79]\n",
            " [49 11 97 54]\n",
            " [72 95 40 52]\n",
            " [75  4  2 88]]\n"
          ]
        }
      ]
    },
    {
      "cell_type": "code",
      "metadata": {
        "colab": {
          "base_uri": "https://localhost:8080/"
        },
        "id": "199094c3",
        "outputId": "e6b00347-1e1d-4ee5-a48d-bcf16671f926"
      },
      "source": [
        "column_means = np.mean(test_scores, axis=0)\n",
        "row_means = np.mean(test_scores, axis=1)\n",
        "\n",
        "print(\"Column-wise means:\", column_means)\n",
        "print(\"Row-wise means:\", row_means)"
      ],
      "execution_count": 2,
      "outputs": [
        {
          "output_type": "stream",
          "name": "stdout",
          "text": [
            "Column-wise means: [52.75 42.25 47.75 68.25]\n",
            "Row-wise means: [51.25 52.75 64.75 42.25]\n"
          ]
        }
      ]
    },
    {
      "cell_type": "code",
      "metadata": {
        "colab": {
          "base_uri": "https://localhost:8080/"
        },
        "id": "8c8912cb",
        "outputId": "1e7d37d1-b57f-4ff1-ef3d-12daa1297c62"
      },
      "source": [
        "std_dev = np.std(test_scores)\n",
        "variance = np.var(test_scores)\n",
        "\n",
        "print(\"Standard Deviation:\", std_dev)\n",
        "print(\"Variance:\", variance)"
      ],
      "execution_count": 3,
      "outputs": [
        {
          "output_type": "stream",
          "name": "stdout",
          "text": [
            "Standard Deviation: 30.494876618868293\n",
            "Variance: 929.9375\n"
          ]
        }
      ]
    },
    {
      "cell_type": "code",
      "metadata": {
        "colab": {
          "base_uri": "https://localhost:8080/"
        },
        "id": "ce4e5b2f",
        "outputId": "55696263-cbf5-420e-9199-1433694f0cbf"
      },
      "source": [
        "min_value = np.min(test_scores)\n",
        "max_value = np.max(test_scores)\n",
        "min_index = np.argmin(test_scores)\n",
        "max_index = np.argmax(test_scores)\n",
        "\n",
        "print(\"Minimum value:\", min_value)\n",
        "print(\"Maximum value:\", max_value)\n",
        "print(\"Index of minimum value:\", min_index)\n",
        "print(\"Index of maximum value:\", max_index)"
      ],
      "execution_count": 4,
      "outputs": [
        {
          "output_type": "stream",
          "name": "stdout",
          "text": [
            "Minimum value: 2\n",
            "Maximum value: 97\n",
            "Index of minimum value: 14\n",
            "Index of maximum value: 6\n"
          ]
        }
      ]
    },
    {
      "cell_type": "code",
      "metadata": {
        "colab": {
          "base_uri": "https://localhost:8080/"
        },
        "id": "8af18806",
        "outputId": "8d022dcf-d4de-4861-a4da-193b8961d7ff"
      },
      "source": [
        "print(\"Statistical Analysis Summary:\")\n",
        "print(\"----------------------------\")\n",
        "print(f\"Row-wise means: {row_means}\")\n",
        "print(f\"Column-wise means: {column_means}\")\n",
        "print(f\"Overall Standard Deviation: {std_dev}\")\n",
        "print(f\"Overall Variance: {variance}\")\n",
        "print(f\"Global Minimum Value: {min_value} (Index: {min_index})\")\n",
        "print(f\"Global Maximum Value: {max_value} (Index: {max_index})\")"
      ],
      "execution_count": 5,
      "outputs": [
        {
          "output_type": "stream",
          "name": "stdout",
          "text": [
            "Statistical Analysis Summary:\n",
            "----------------------------\n",
            "Row-wise means: [51.25 52.75 64.75 42.25]\n",
            "Column-wise means: [52.75 42.25 47.75 68.25]\n",
            "Overall Standard Deviation: 30.494876618868293\n",
            "Overall Variance: 929.9375\n",
            "Global Minimum Value: 2 (Index: 14)\n",
            "Global Maximum Value: 97 (Index: 6)\n"
          ]
        }
      ]
    },
    {
      "cell_type": "markdown",
      "metadata": {
        "id": "816d01e6"
      },
      "source": [
        "## Create 3d array\n"
      ]
    },
    {
      "cell_type": "code",
      "metadata": {
        "colab": {
          "base_uri": "https://localhost:8080/"
        },
        "id": "930a26ef",
        "outputId": "d08b4bc4-13a4-498d-927b-2ee8124ec52a"
      },
      "source": [
        "rgb_image = np.random.randint(0, 256, size=(3, 3, 3))\n",
        "print(rgb_image)"
      ],
      "execution_count": 6,
      "outputs": [
        {
          "output_type": "stream",
          "name": "stdout",
          "text": [
            "[[[130 205  50]\n",
            "  [149 236 133]\n",
            "  [246 242 152]]\n",
            "\n",
            " [[157 173  91]\n",
            "  [170 106  94]\n",
            "  [ 49  57  79]]\n",
            "\n",
            " [[120 144  81]\n",
            "  [163 212 217]\n",
            "  [ 92  70  49]]]\n"
          ]
        }
      ]
    },
    {
      "cell_type": "code",
      "metadata": {
        "colab": {
          "base_uri": "https://localhost:8080/"
        },
        "id": "25206f98",
        "outputId": "f91adcfe-8ed7-4c8b-cfbd-2e13214a98e0"
      },
      "source": [
        "red_channel = rgb_image[:, :, 0]\n",
        "green_channel = rgb_image[:, :, 1]\n",
        "blue_channel = rgb_image[:, :, 2]\n",
        "\n",
        "print(\"Red Channel:\\n\", red_channel)\n",
        "print(\"Green Channel:\\n\", green_channel)\n",
        "print(\"Blue Channel:\\n\", blue_channel)"
      ],
      "execution_count": 7,
      "outputs": [
        {
          "output_type": "stream",
          "name": "stdout",
          "text": [
            "Red Channel:\n",
            " [[130 149 246]\n",
            " [157 170  49]\n",
            " [120 163  92]]\n",
            "Green Channel:\n",
            " [[205 236 242]\n",
            " [173 106  57]\n",
            " [144 212  70]]\n",
            "Blue Channel:\n",
            " [[ 50 133 152]\n",
            " [ 91  94  79]\n",
            " [ 81 217  49]]\n"
          ]
        }
      ]
    },
    {
      "cell_type": "code",
      "metadata": {
        "colab": {
          "base_uri": "https://localhost:8080/"
        },
        "id": "549b88c6",
        "outputId": "54b00b74-f96b-4fd5-ac6e-53223b22df49"
      },
      "source": [
        "red_mean = np.mean(red_channel)\n",
        "green_mean = np.mean(green_channel)\n",
        "blue_mean = np.mean(blue_channel)\n",
        "\n",
        "print(f\"Average pixel intensity for Red channel: {red_mean}\")\n",
        "print(f\"Average pixel intensity for Green channel: {green_mean}\")\n",
        "print(f\"Average pixel intensity for Blue channel: {blue_mean}\")"
      ],
      "execution_count": 8,
      "outputs": [
        {
          "output_type": "stream",
          "name": "stdout",
          "text": [
            "Average pixel intensity for Red channel: 141.77777777777777\n",
            "Average pixel intensity for Green channel: 160.55555555555554\n",
            "Average pixel intensity for Blue channel: 105.11111111111111\n"
          ]
        }
      ]
    },
    {
      "cell_type": "code",
      "metadata": {
        "colab": {
          "base_uri": "https://localhost:8080/"
        },
        "id": "7f78f8ad",
        "outputId": "d35cf101-2ac7-43a9-9e6b-2f7c0b48649d"
      },
      "source": [
        "brightness_increase = 50\n",
        "brightened_image = np.clip(rgb_image + brightness_increase, 0, 255)\n",
        "print(\"Brightened Image (clipped at 255):\\n\", brightened_image)"
      ],
      "execution_count": 9,
      "outputs": [
        {
          "output_type": "stream",
          "name": "stdout",
          "text": [
            "Brightened Image (clipped at 255):\n",
            " [[[180 255 100]\n",
            "  [199 255 183]\n",
            "  [255 255 202]]\n",
            "\n",
            " [[207 223 141]\n",
            "  [220 156 144]\n",
            "  [ 99 107 129]]\n",
            "\n",
            " [[170 194 131]\n",
            "  [213 255 255]\n",
            "  [142 120  99]]]\n"
          ]
        }
      ]
    },
    {
      "cell_type": "code",
      "metadata": {
        "colab": {
          "base_uri": "https://localhost:8080/"
        },
        "id": "e00baa49",
        "outputId": "8e187fbb-04fb-4804-ca63-12a24da06f9c"
      },
      "source": [
        "print(\"Statistical Analysis Summary:\")\n",
        "print(\"----------------------------\")\n",
        "print(\"Red Channel:\\n\", red_channel)\n",
        "print(\"Green Channel:\\n\", green_channel)\n",
        "print(\"Blue Channel:\\n\", blue_channel)\n",
        "print(f\"\\nAverage pixel intensity for Red channel: {red_mean}\")\n",
        "print(f\"Average pixel intensity for Green channel: {green_mean}\")\n",
        "print(f\"Average pixel intensity for Blue channel: {blue_mean}\")\n",
        "print(\"\\nBrightened Image (clipped at 255):\\n\", brightened_image)"
      ],
      "execution_count": 11,
      "outputs": [
        {
          "output_type": "stream",
          "name": "stdout",
          "text": [
            "Statistical Analysis Summary:\n",
            "----------------------------\n",
            "Red Channel:\n",
            " [[130 149 246]\n",
            " [157 170  49]\n",
            " [120 163  92]]\n",
            "Green Channel:\n",
            " [[205 236 242]\n",
            " [173 106  57]\n",
            " [144 212  70]]\n",
            "Blue Channel:\n",
            " [[ 50 133 152]\n",
            " [ 91  94  79]\n",
            " [ 81 217  49]]\n",
            "\n",
            "Average pixel intensity for Red channel: 141.77777777777777\n",
            "Average pixel intensity for Green channel: 160.55555555555554\n",
            "Average pixel intensity for Blue channel: 105.11111111111111\n",
            "\n",
            "Brightened Image (clipped at 255):\n",
            " [[[180 255 100]\n",
            "  [199 255 183]\n",
            "  [255 255 202]]\n",
            "\n",
            " [[207 223 141]\n",
            "  [220 156 144]\n",
            "  [ 99 107 129]]\n",
            "\n",
            " [[170 194 131]\n",
            "  [213 255 255]\n",
            "  [142 120  99]]]\n"
          ]
        }
      ]
    }
  ]
}