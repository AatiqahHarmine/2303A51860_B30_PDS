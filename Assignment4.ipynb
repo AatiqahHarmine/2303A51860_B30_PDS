{
  "nbformat": 4,
  "nbformat_minor": 0,
  "metadata": {
    "colab": {
      "provenance": [],
      "authorship_tag": "ABX9TyPAbCjO04c75Xc7/JFBmdXo",
      "include_colab_link": true
    },
    "kernelspec": {
      "name": "python3",
      "display_name": "Python 3"
    },
    "language_info": {
      "name": "python"
    }
  },
  "cells": [
    {
      "cell_type": "markdown",
      "metadata": {
        "id": "view-in-github",
        "colab_type": "text"
      },
      "source": [
        "<a href=\"https://colab.research.google.com/github/AatiqahHarmine/2303A51860_B30_PDS/blob/main/Assignment4.ipynb\" target=\"_parent\"><img src=\"https://colab.research.google.com/assets/colab-badge.svg\" alt=\"Open In Colab\"/></a>"
      ]
    },
    {
      "cell_type": "code",
      "execution_count": 4,
      "metadata": {
        "colab": {
          "base_uri": "https://localhost:8080/"
        },
        "id": "bRYJX8rkQBDd",
        "outputId": "e4b67f63-317f-4729-9f33-6cae2b26e0a0"
      },
      "outputs": [
        {
          "output_type": "stream",
          "name": "stdout",
          "text": [
            "Meaningful Feedbacks for 'Python for Data Science':\n",
            "\n",
            "User 101: Great course, very helpful!\n",
            "\n",
            "User 102: Good explanations and clear examples.\n",
            "\n"
          ]
        }
      ],
      "source": [
        "import pandas as pd\n",
        "\n",
        "df = pd.read_csv(\"course_feedback.csv\")\n",
        "df = df.dropna(subset=[\"Rating\"])\n",
        "\n",
        "filtered_df = df[\n",
        "    (df[\"Course_Name\"] == \"Python for Data Science\") &\n",
        "    (df[\"Rating\"] >= 4)\n",
        "]\n",
        "\n",
        "result = filtered_df[[\"User_ID\", \"Feedback\"]]\n",
        "\n",
        "print(\"Meaningful Feedbacks for 'Python for Data Science':\\n\")\n",
        "for _, row in result.iterrows():\n",
        "    print(f\"User {row['User_ID']}: {row['Feedback']}\\n\")"
      ]
    },
    {
      "cell_type": "code",
      "source": [
        "import pandas as pd\n",
        "\n",
        "df = pd.read_csv(\"air_quality.csv\")\n",
        "\n",
        "df = df.fillna(method=\"ffill\")\n",
        "polluted_days = df[(df[\"PM2.5\"] > 150) & (df[\"NO2\"] > 80)]\n",
        "\n",
        "print(\"Polluted Day Records (PM2.5 > 150 and NO2 > 80):\\n\")\n",
        "print(polluted_days)\n",
        "polluted_days.to_csv(\"polluted_days.csv\", index=False)"
      ],
      "metadata": {
        "colab": {
          "base_uri": "https://localhost:8080/"
        },
        "id": "bJpzhujeRYzR",
        "outputId": "f61328b6-225d-4da9-eb92-ab069f498a6c"
      },
      "execution_count": 5,
      "outputs": [
        {
          "output_type": "stream",
          "name": "stdout",
          "text": [
            "Polluted Day Records (PM2.5 > 150 and NO2 > 80):\n",
            "\n",
            "  Location  PM2.5   PM10    NO2   SO2        Date\n",
            "1    CityB  160.0  100.0   85.0  25.0  2025-08-02\n",
            "3    CityA  180.0   90.0   95.0  15.0  2025-08-04\n",
            "5    CityC  200.0  130.0  100.0  28.0  2025-08-06\n"
          ]
        },
        {
          "output_type": "stream",
          "name": "stderr",
          "text": [
            "/tmp/ipython-input-2223243694.py:5: FutureWarning: DataFrame.fillna with 'method' is deprecated and will raise in a future version. Use obj.ffill() or obj.bfill() instead.\n",
            "  df = df.fillna(method=\"ffill\")\n"
          ]
        }
      ]
    }
  ]
}