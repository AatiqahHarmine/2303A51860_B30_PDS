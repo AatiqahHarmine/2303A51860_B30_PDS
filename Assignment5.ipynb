{
  "nbformat": 4,
  "nbformat_minor": 0,
  "metadata": {
    "colab": {
      "provenance": [],
      "authorship_tag": "ABX9TyPn0sUMbYGoRUZV76/dxn0f",
      "include_colab_link": true
    },
    "kernelspec": {
      "name": "python3",
      "display_name": "Python 3"
    },
    "language_info": {
      "name": "python"
    }
  },
  "cells": [
    {
      "cell_type": "markdown",
      "metadata": {
        "id": "view-in-github",
        "colab_type": "text"
      },
      "source": [
        "<a href=\"https://colab.research.google.com/github/AatiqahHarmine/2303A51860_B30_PDS/blob/main/Assignment5.ipynb\" target=\"_parent\"><img src=\"https://colab.research.google.com/assets/colab-badge.svg\" alt=\"Open In Colab\"/></a>"
      ]
    },
    {
      "cell_type": "markdown",
      "source": [
        "#Question - 5"
      ],
      "metadata": {
        "id": "38maqkerGDbw"
      }
    },
    {
      "cell_type": "code",
      "execution_count": 3,
      "metadata": {
        "colab": {
          "base_uri": "https://localhost:8080/",
          "height": 0
        },
        "id": "IyxGtfGWE1N0",
        "outputId": "f5d8a6a5-2068-4300-bc33-16b61108ab50"
      },
      "outputs": [
        {
          "output_type": "stream",
          "name": "stdout",
          "text": [
            "Merged Dataset:\n",
            "    transaction_id  customer_id  amount     name         city\n",
            "0             101            1     120    Alice     New York\n",
            "1             102            2     250      Bob  Los Angeles\n",
            "2             103            1     300    Alice     New York\n",
            "3             104            3     150  Charlie     New York\n",
            "4             105            4     200    David      Chicago\n",
            "5             106            5     180      Eva  Los Angeles\n",
            "6             107            2     100      Bob  Los Angeles \n",
            "\n",
            "Customer Spend:\n",
            "    customer_id     name  total_spend\n",
            "0            1    Alice          420\n",
            "1            2      Bob          350\n",
            "2            3  Charlie          150\n",
            "3            4    David          200\n",
            "4            5      Eva          180 \n",
            "\n",
            "City-wise Spend:\n",
            "           city  total_city_spend\n",
            "0      Chicago               200\n",
            "1  Los Angeles               530\n",
            "2     New York               570 \n",
            "\n",
            "Top Spender:\n",
            "    customer_id   name  total_spend\n",
            "0            1  Alice          420 \n",
            "\n"
          ]
        }
      ],
      "source": [
        "import pandas as pd\n",
        "\n",
        "customers = pd.DataFrame({\n",
        "    'customer_id': [1, 2, 3, 4, 5],\n",
        "    'name': ['Alice', 'Bob', 'Charlie', 'David', 'Eva'],\n",
        "    'city': ['New York', 'Los Angeles', 'New York', 'Chicago', 'Los Angeles']\n",
        "})\n",
        "\n",
        "transactions = pd.DataFrame({\n",
        "    'transaction_id': [101, 102, 103, 104, 105, 106, 107],\n",
        "    'customer_id': [1, 2, 1, 3, 4, 5, 2],\n",
        "    'amount': [120, 250, 300, 150, 200, 180, 100]\n",
        "})\n",
        "\n",
        "merged_df = pd.merge(transactions, customers, on='customer_id', how='inner')\n",
        "customer_spend = merged_df.groupby(['customer_id', 'name'])['amount'].sum().reset_index()\n",
        "customer_spend = customer_spend.rename(columns={'amount': 'total_spend'})\n",
        "city_spend = merged_df.groupby('city')['amount'].sum().reset_index()\n",
        "city_spend = city_spend.rename(columns={'amount': 'total_city_spend'})\n",
        "\n",
        "top_spender = customer_spend.sort_values(by='total_spend', ascending=False).head(1)\n",
        "\n",
        "print(\"Merged Dataset:\\n\", merged_df, \"\\n\")\n",
        "print(\"Customer Spend:\\n\", customer_spend, \"\\n\")\n",
        "print(\"City-wise Spend:\\n\", city_spend, \"\\n\")\n",
        "print(\"Top Spender:\\n\", top_spender, \"\\n\")"
      ]
    },
    {
      "cell_type": "markdown",
      "source": [
        "#Question - 6"
      ],
      "metadata": {
        "id": "XEWuYTlyGJAC"
      }
    },
    {
      "cell_type": "code",
      "source": [
        "import pandas as pd\n",
        "\n",
        "patients = pd.DataFrame({\n",
        "    'patient_id': [1, 2, 3, 4, 5],\n",
        "    'name': ['Alice', 'Bob', 'Charlie', 'David', 'Eva'],\n",
        "    'age': [34, 45, 29, 60, 50]\n",
        "})\n",
        "\n",
        "appointments = pd.DataFrame({\n",
        "    'appointment_id': [101, 102, 103, 104, 105, 106, 107, 108],\n",
        "    'patient_id': [1, 2, 1, 3, 4, 5, 2, 2],\n",
        "    'doctor': ['Dr. Smith', 'Dr. Lee', 'Dr. Smith', 'Dr. Lee', 'Dr. Brown', 'Dr. Smith', 'Dr. Brown', 'Dr. Lee'],\n",
        "    'date': pd.to_datetime([\n",
        "        '2023-01-01', '2023-01-02', '2023-01-10', '2023-01-11',\n",
        "        '2023-01-15', '2023-01-18', '2023-01-20', '2023-01-25'\n",
        "    ])\n",
        "})\n",
        "\n",
        "merged_df = pd.merge(appointments, patients, on='patient_id', how='inner')\n",
        "\n",
        "patient_visits = merged_df.groupby(['patient_id', 'name'])['appointment_id'].count().reset_index()\n",
        "patient_visits = patient_visits.rename(columns={'appointment_id': 'num_visits'})\n",
        "\n",
        "doctor_workload = merged_df.groupby('doctor')['appointment_id'].count().reset_index()\n",
        "doctor_workload = doctor_workload.rename(columns={'appointment_id': 'num_appointments'})\n",
        "\n",
        "top_patient = patient_visits.sort_values(by='num_visits', ascending=False).head(1)\n",
        "\n",
        "print(\"Merged Dataset:\\n\", merged_df, \"\\n\")\n",
        "print(\"Patient Visits:\\n\", patient_visits, \"\\n\")\n",
        "print(\"Doctor Workload:\\n\", doctor_workload, \"\\n\")\n",
        "print(\"Top Patient (most visits):\\n\", top_patient, \"\\n\")"
      ],
      "metadata": {
        "colab": {
          "base_uri": "https://localhost:8080/",
          "height": 0
        },
        "id": "42B4taD3FtDW",
        "outputId": "5aa58f2b-4a33-44a4-a6f0-55cca939b5ad"
      },
      "execution_count": 5,
      "outputs": [
        {
          "output_type": "stream",
          "name": "stdout",
          "text": [
            "Merged Dataset:\n",
            "    appointment_id  patient_id     doctor       date     name  age\n",
            "0             101           1  Dr. Smith 2023-01-01    Alice   34\n",
            "1             102           2    Dr. Lee 2023-01-02      Bob   45\n",
            "2             103           1  Dr. Smith 2023-01-10    Alice   34\n",
            "3             104           3    Dr. Lee 2023-01-11  Charlie   29\n",
            "4             105           4  Dr. Brown 2023-01-15    David   60\n",
            "5             106           5  Dr. Smith 2023-01-18      Eva   50\n",
            "6             107           2  Dr. Brown 2023-01-20      Bob   45\n",
            "7             108           2    Dr. Lee 2023-01-25      Bob   45 \n",
            "\n",
            "Patient Visits:\n",
            "    patient_id     name  num_visits\n",
            "0           1    Alice           2\n",
            "1           2      Bob           3\n",
            "2           3  Charlie           1\n",
            "3           4    David           1\n",
            "4           5      Eva           1 \n",
            "\n",
            "Doctor Workload:\n",
            "       doctor  num_appointments\n",
            "0  Dr. Brown                 2\n",
            "1    Dr. Lee                 3\n",
            "2  Dr. Smith                 3 \n",
            "\n",
            "Top Patient (most visits):\n",
            "    patient_id name  num_visits\n",
            "1           2  Bob           3 \n",
            "\n"
          ]
        }
      ]
    }
  ]
}